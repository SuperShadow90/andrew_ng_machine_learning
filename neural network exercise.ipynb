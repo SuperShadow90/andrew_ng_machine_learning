{
 "cells": [
  {
   "cell_type": "code",
   "execution_count": 2,
   "metadata": {
    "collapsed": true
   },
   "outputs": [],
   "source": [
    "%matplotlib inline"
   ]
  },
  {
   "cell_type": "code",
   "execution_count": 294,
   "metadata": {
    "collapsed": true
   },
   "outputs": [],
   "source": [
    "import pandas as pd\n",
    "import numpy as np\n",
    "import matplotlib.pyplot as plt\n",
    "\n",
    "from scipy.io import loadmat\n",
    "from scipy.optimize import minimize\n",
    "from sklearn.linear_model import LogisticRegression"
   ]
  },
  {
   "cell_type": "code",
   "execution_count": 242,
   "metadata": {
    "collapsed": true
   },
   "outputs": [],
   "source": [
    "data = loadmat('machine-learning-ex3/ex3/ex3data1.mat')"
   ]
  },
  {
   "cell_type": "code",
   "execution_count": 243,
   "metadata": {},
   "outputs": [
    {
     "data": {
      "text/plain": [
       "['y', 'X', '__version__', '__header__', '__globals__']"
      ]
     },
     "execution_count": 243,
     "metadata": {},
     "output_type": "execute_result"
    }
   ],
   "source": [
    "data.keys()"
   ]
  },
  {
   "cell_type": "code",
   "execution_count": 244,
   "metadata": {
    "collapsed": true
   },
   "outputs": [],
   "source": [
    "X = np.c_[np.ones((data['X'].shape[0],1)), data['X']]\n",
    "y = data['y']"
   ]
  },
  {
   "cell_type": "code",
   "execution_count": 245,
   "metadata": {},
   "outputs": [
    {
     "data": {
      "text/plain": [
       "((5000, 401),\n",
       " (5000, 1),\n",
       " array([ 1,  2,  3,  4,  5,  6,  7,  8,  9, 10], dtype=uint8),\n",
       " array([-0.13196323, -0.11993388, -0.11220256, ...,  1.12024444,\n",
       "         1.12393404,  1.1276883 ]))"
      ]
     },
     "execution_count": 245,
     "metadata": {},
     "output_type": "execute_result"
    }
   ],
   "source": [
    "X.shape, y.shape, np.unique(y), np.unique(X)"
   ]
  },
  {
   "cell_type": "code",
   "execution_count": 246,
   "metadata": {
    "collapsed": true
   },
   "outputs": [],
   "source": [
    "def sigmoid(z):\n",
    "    return 1/(1 + np.exp(-z))"
   ]
  },
  {
   "cell_type": "code",
   "execution_count": 285,
   "metadata": {
    "collapsed": true
   },
   "outputs": [],
   "source": [
    "def lr_cost_function_with_reg(theta, reg, x, y):\n",
    "    m = y.size\n",
    "    h = sigmoid(X.dot(theta))\n",
    "    cost = -1*(1.0/m)*(np.log(h).T.dot(y)+np.log(1-h).T.dot(1-y)) + (reg/(2*m))*np.sum(np.square(theta[1:]))\n",
    "    return(cost[0]) "
   ]
  },
  {
   "cell_type": "code",
   "execution_count": 306,
   "metadata": {
    "collapsed": true
   },
   "outputs": [],
   "source": [
    "def lr_gradient_with_reg(theta, reg, x, y):\n",
    "    m = y.size\n",
    "    h = sigmoid(X.dot(theta.reshape(-1,1)))\n",
    "    grad = (1.0/m)*X.T.dot(h-y) + (reg/m)*np.r_[[[0]],theta[1:].reshape(-1,1)]\n",
    "    return grad.flatten()"
   ]
  },
  {
   "cell_type": "markdown",
   "metadata": {},
   "source": [
    "### One-vs-all Classification"
   ]
  },
  {
   "cell_type": "code",
   "execution_count": 287,
   "metadata": {},
   "outputs": [],
   "source": [
    "def one_vs_all(features, classes, n_labels, reg):\n",
    "    initial_theta = np.zeros((X.shape[1],1))\n",
    "    all_theta = np.zeros((n_labels, X.shape[1]))\n",
    "    for c in np.arange(1, n_labels+1):\n",
    "        res = minimize(lr_cost_function_with_reg, initial_theta, args=(reg, features, (classes == c)*1), method=None,\n",
    "                       jac=lr_gradient_with_reg, options={'maxiter':50})\n",
    "        all_theta[c-1] = res.x\n",
    "    return all_theta"
   ]
  },
  {
   "cell_type": "code",
   "execution_count": 288,
   "metadata": {},
   "outputs": [
    {
     "name": "stdout",
     "output_type": "stream",
     "text": [
      "[[ -2.39142338e+00   0.00000000e+00   0.00000000e+00 ...,   6.90403614e-04\n",
      "    1.25548916e-07   0.00000000e+00]\n",
      " [ -3.01137869e+00   0.00000000e+00   0.00000000e+00 ...,   1.48908371e-03\n",
      "   -1.69495224e-04   0.00000000e+00]\n",
      " [ -4.51398334e+00   0.00000000e+00   0.00000000e+00 ...,  -1.60669585e-05\n",
      "    3.43368479e-07   0.00000000e+00]\n",
      " ..., \n",
      " [ -8.41428002e+00   0.00000000e+00   0.00000000e+00 ...,  -6.96539602e-05\n",
      "    6.26414118e-06   0.00000000e+00]\n",
      " [ -5.13253825e+00   0.00000000e+00   0.00000000e+00 ...,  -1.54282889e-04\n",
      "    5.92217956e-06   0.00000000e+00]\n",
      " [ -4.38685169e+00   0.00000000e+00   0.00000000e+00 ...,  -3.60354278e-04\n",
      "    9.53842298e-06   0.00000000e+00]]\n"
     ]
    }
   ],
   "source": [
    "theta = one_vs_all(X, y, 10, 0.1)\n",
    "print theta"
   ]
  },
  {
   "cell_type": "markdown",
   "metadata": {},
   "source": [
    "### One-vs-all Prediction"
   ]
  },
  {
   "cell_type": "code",
   "execution_count": 289,
   "metadata": {
    "collapsed": true
   },
   "outputs": [],
   "source": [
    "def predict_one_vs_all(all_theta, features):\n",
    "    probs = sigmoid(X.dot(all_theta.T))\n",
    "    print probs\n",
    "        \n",
    "    # Adding one because Python uses zero based indexing for the 10 columns (0-9),\n",
    "    # while the 10 classes are numbered from 1 to 10.\n",
    "    return(np.argmax(probs, axis=1)+1)"
   ]
  },
  {
   "cell_type": "code",
   "execution_count": 290,
   "metadata": {},
   "outputs": [
    {
     "name": "stdout",
     "output_type": "stream",
     "text": [
      "[[  1.13808117e-13   2.53747146e-04   3.73214932e-05 ...,   2.20791707e-05\n",
      "    1.81701529e-04   9.99679426e-01]\n",
      " [  8.19183673e-12   2.01268865e-05   9.73072658e-05 ...,   1.03747290e-06\n",
      "    6.77071791e-06   9.99705449e-01]\n",
      " [  2.85590783e-15   1.38351748e-04   6.38321914e-04 ...,   2.35529203e-02\n",
      "    1.80781339e-03   9.97154524e-01]\n",
      " ..., \n",
      " [  4.41544246e-02   1.60737199e-03   3.27288656e-02 ...,   1.37621224e-03\n",
      "    6.12110061e-01   2.31664369e-09]\n",
      " [  7.08546286e-12   3.99341869e-08   1.01698252e-06 ...,   1.13880413e-01\n",
      "    9.35541108e-01   2.98405727e-08]\n",
      " [  2.56192943e-16   7.82747234e-05   1.32053939e-09 ...,   2.24390446e-03\n",
      "    2.55572306e-01   2.22769196e-03]]\n",
      "(5000,)\n"
     ]
    }
   ],
   "source": [
    "pred = predict_one_vs_all(theta, X)\n",
    "print pred.shape"
   ]
  },
  {
   "cell_type": "code",
   "execution_count": 291,
   "metadata": {},
   "outputs": [
    {
     "name": "stdout",
     "output_type": "stream",
     "text": [
      "0.9324\n"
     ]
    }
   ],
   "source": [
    "print (pred == y.ravel()).mean()"
   ]
  },
  {
   "cell_type": "markdown",
   "metadata": {
    "collapsed": true
   },
   "source": [
    "### Multi-class Classification with Scikit Learn"
   ]
  },
  {
   "cell_type": "code",
   "execution_count": 301,
   "metadata": {},
   "outputs": [
    {
     "data": {
      "text/plain": [
       "LogisticRegression(C=10, class_weight=None, dual=False, fit_intercept=False,\n",
       "          intercept_scaling=1, max_iter=50, multi_class='ovr', n_jobs=1,\n",
       "          penalty='l2', random_state=None, solver='newton-cg', tol=0.0001,\n",
       "          verbose=0, warm_start=False)"
      ]
     },
     "execution_count": 301,
     "metadata": {},
     "output_type": "execute_result"
    }
   ],
   "source": [
    "Logit = LogisticRegression(penalty='l2', C=10, solver='newton-cg', fit_intercept=False, max_iter=50)\n",
    "Logit.fit(X,y.ravel())"
   ]
  },
  {
   "cell_type": "code",
   "execution_count": 302,
   "metadata": {},
   "outputs": [
    {
     "data": {
      "text/plain": [
       "0.96499999999999997"
      ]
     },
     "execution_count": 302,
     "metadata": {},
     "output_type": "execute_result"
    }
   ],
   "source": [
    "np.mean(Logit.predict(X)==y.ravel())"
   ]
  },
  {
   "cell_type": "markdown",
   "metadata": {},
   "source": [
    "## Neural Networks"
   ]
  },
  {
   "cell_type": "code",
   "execution_count": 303,
   "metadata": {
    "collapsed": true
   },
   "outputs": [],
   "source": [
    "weights = loadmat('machine-learning-ex3/ex3/ex3weights.mat')"
   ]
  },
  {
   "cell_type": "code",
   "execution_count": 304,
   "metadata": {},
   "outputs": [
    {
     "data": {
      "text/plain": [
       "['Theta2', '__version__', '__header__', 'Theta1', '__globals__']"
      ]
     },
     "execution_count": 304,
     "metadata": {},
     "output_type": "execute_result"
    }
   ],
   "source": [
    "weights.keys()"
   ]
  },
  {
   "cell_type": "code",
   "execution_count": 305,
   "metadata": {},
   "outputs": [
    {
     "name": "stdout",
     "output_type": "stream",
     "text": [
      "(25, 401) (10, 26)\n"
     ]
    }
   ],
   "source": [
    "theta1 = weights[\"Theta1\"]\n",
    "theta2 = weights[\"Theta2\"]\n",
    "print theta1.shape, theta2.shape"
   ]
  },
  {
   "cell_type": "code",
   "execution_count": 311,
   "metadata": {
    "collapsed": true
   },
   "outputs": [],
   "source": [
    "def predict(theta_1, theta_2, features):\n",
    "    z2 = theta_1.dot(features.T)\n",
    "    a2 = np.c_[np.ones((data['X'].shape[0],1)), sigmoid(z2).T]\n",
    "    z3 = theta2.dot(a2.T)\n",
    "    a3 = sigmoid(z3).T\n",
    "    return np.argmax(a3,axis=1) + 1"
   ]
  },
  {
   "cell_type": "code",
   "execution_count": 312,
   "metadata": {},
   "outputs": [
    {
     "data": {
      "text/plain": [
       "0.97519999999999996"
      ]
     },
     "execution_count": 312,
     "metadata": {},
     "output_type": "execute_result"
    }
   ],
   "source": [
    "np.mean(predict(theta1, theta2, X) == y.ravel())"
   ]
  },
  {
   "cell_type": "code",
   "execution_count": null,
   "metadata": {
    "collapsed": true
   },
   "outputs": [],
   "source": []
  }
 ],
 "metadata": {
  "kernelspec": {
   "display_name": "Python 2",
   "language": "python",
   "name": "python2"
  },
  "language_info": {
   "codemirror_mode": {
    "name": "ipython",
    "version": 2
   },
   "file_extension": ".py",
   "mimetype": "text/x-python",
   "name": "python",
   "nbconvert_exporter": "python",
   "pygments_lexer": "ipython2",
   "version": "2.7.14"
  }
 },
 "nbformat": 4,
 "nbformat_minor": 2
}
