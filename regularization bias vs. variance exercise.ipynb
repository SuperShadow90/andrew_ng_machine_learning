{
 "cells": [
  {
   "cell_type": "code",
   "execution_count": 220,
   "metadata": {
    "collapsed": true
   },
   "outputs": [],
   "source": [
    "import pandas as pd\n",
    "import numpy as np\n",
    "import matplotlib.pyplot as plt\n",
    "\n",
    "from scipy.io import loadmat\n",
    "from scipy.optimize import minimize\n",
    "from sklearn.preprocessing import PolynomialFeatures\n",
    "from sklearn.linear_model import LinearRegression, Ridge"
   ]
  },
  {
   "cell_type": "code",
   "execution_count": 86,
   "metadata": {
    "collapsed": true
   },
   "outputs": [],
   "source": [
    "%matplotlib inline"
   ]
  },
  {
   "cell_type": "code",
   "execution_count": 140,
   "metadata": {},
   "outputs": [
    {
     "data": {
      "text/plain": [
       "['ytest',\n",
       " 'yval',\n",
       " '__header__',\n",
       " '__globals__',\n",
       " 'Xtest',\n",
       " 'Xval',\n",
       " 'y',\n",
       " 'X',\n",
       " '__version__']"
      ]
     },
     "execution_count": 140,
     "metadata": {},
     "output_type": "execute_result"
    }
   ],
   "source": [
    "data = loadmat(\"machine-learning-ex5/ex5/ex5data1.mat\")\n",
    "data.keys()"
   ]
  },
  {
   "cell_type": "code",
   "execution_count": 192,
   "metadata": {},
   "outputs": [
    {
     "name": "stdout",
     "output_type": "stream",
     "text": [
      "(12, 1)\n"
     ]
    },
    {
     "data": {
      "image/png": "[encoded data removed]",
      "text/plain": [
       "<matplotlib.figure.Figure at 0x1818b51150>"
      ]
     },
     "metadata": {},
     "output_type": "display_data"
    }
   ],
   "source": [
    "X = data['X']\n",
    "y = data['y']\n",
    "X_val = data['Xval']\n",
    "y_val = data['yval']\n",
    "X = np.c_[np.ones((X.shape[0])), X]\n",
    "X_val = np.c_[np.ones((X_val.shape[0])), X_val]\n",
    "plt.scatter(X[:,1],y, marker='x', c=\"red\")\n",
    "plt.xlabel(\"change in water level(x)\")\n",
    "plt.ylabel(\"water flowing out of the dam(y)\")\n",
    "print y.shape"
   ]
  },
  {
   "cell_type": "code",
   "execution_count": 193,
   "metadata": {},
   "outputs": [],
   "source": [
    "def linear_cost(theta, X, y, reg):\n",
    "    h = X.dot(theta.reshape(-1,1))\n",
    "    m = y.size\n",
    "    cost = float(1.0/(2*m) * (h-y).T.dot(h-y)) + (reg/(2.0*m))*np.sum(np.square(theta[1:].reshape(-1,1)))\n",
    "    return cost"
   ]
  },
  {
   "cell_type": "code",
   "execution_count": 194,
   "metadata": {},
   "outputs": [
    {
     "data": {
      "text/plain": [
       "303.9515255535976"
      ]
     },
     "execution_count": 194,
     "metadata": {},
     "output_type": "execute_result"
    }
   ],
   "source": [
    "initial_theta = np.array([1,1])\n",
    "linear_cost(initial_theta, X, y, 0)"
   ]
  },
  {
   "cell_type": "code",
   "execution_count": 225,
   "metadata": {
    "collapsed": true
   },
   "outputs": [],
   "source": [
    "def gradient(theta, X, y, reg):\n",
    "    m = y.size\n",
    "    h = X.dot(theta.reshape(-1,1))\n",
    "    gradient = 1.0/m*X.T.dot(h-y) + (reg/m)*np.r_[[[0]],theta[1:].reshape(-1,1)]\n",
    "    return gradient.flatten()"
   ]
  },
  {
   "cell_type": "code",
   "execution_count": 196,
   "metadata": {},
   "outputs": [
    {
     "name": "stdout",
     "output_type": "stream",
     "text": [
      "(12, 2)\n",
      "(2, 1)\n"
     ]
    },
    {
     "data": {
      "text/plain": [
       "array([ -15.30301567,  598.16741084])"
      ]
     },
     "execution_count": 196,
     "metadata": {},
     "output_type": "execute_result"
    }
   ],
   "source": [
    "gradient(initial_theta, X, y, 0)"
   ]
  },
  {
   "cell_type": "code",
   "execution_count": 222,
   "metadata": {
    "collapsed": true
   },
   "outputs": [],
   "source": [
    "def optimize_theta(X, y, theta, reg = 0.0):\n",
    "    fit_theta = minimize(linear_cost, theta, args=(X,y,reg), method=None, jac=gradient,options={'maxiter':5000})\n",
    "    return fit_theta"
   ]
  },
  {
   "cell_type": "code",
   "execution_count": 198,
   "metadata": {},
   "outputs": [
    {
     "name": "stdout",
     "output_type": "stream",
     "text": [
      "(12, 2)\n",
      "(2, 1)\n",
      "(12, 2)\n",
      "(2, 1)\n",
      "(12, 2)\n",
      "(2, 1)\n",
      "(12, 2)\n",
      "(2, 1)\n",
      "(12, 2)\n",
      "(2, 1)\n",
      "(12, 2)\n",
      "(2, 1)\n",
      "(12,)\n"
     ]
    }
   ],
   "source": [
    "my_theta = optimize_theta(X, y , initial_theta)\n",
    "print X.dot(my_theta.x).shape"
   ]
  },
  {
   "cell_type": "code",
   "execution_count": 238,
   "metadata": {},
   "outputs": [
    {
     "data": {
      "text/plain": [
       "Text(0,0.5,u'water flowing out of the dam(y)')"
      ]
     },
     "execution_count": 238,
     "metadata": {},
     "output_type": "execute_result"
    },
    {
     "data": {
      "image/png": "[encoded data removed]",
      "text/plain": [
       "<matplotlib.figure.Figure at 0x1a1a45f390>"
      ]
     },
     "metadata": {},
     "output_type": "display_data"
    }
   ],
   "source": [
    "plt.scatter(X[:,1],y, marker='x', c=\"red\")\n",
    "plt.plot(X[:,1], X.dot(my_theta.x))\n",
    "plt.xlabel(\"change in water level(x)\")\n",
    "plt.ylabel(\"water flowing out of the dam(y)\")"
   ]
  },
  {
   "cell_type": "markdown",
   "metadata": {},
   "source": [
    "### Learning Curve"
   ]
  },
  {
   "cell_type": "code",
   "execution_count": 200,
   "metadata": {
    "collapsed": true
   },
   "outputs": [],
   "source": [
    "def learning_curve(X, y, Xval, yval, reg):\n",
    "    m = y.size\n",
    "    error_train = np.empty((m, 1))\n",
    "    error_val = np.empty((m, 1))\n",
    "    \n",
    "    for i in np.arange(m):\n",
    "        best_theta = optimize_theta(X[:i+1], y[:i+1], [1,1])\n",
    "        error_train[i] = linear_cost(best_theta.x, X[:i+1], y[:i+1], reg)\n",
    "        error_val[i] = linear_cost(best_theta.x, Xval, yval, reg)\n",
    "    \n",
    "    return error_train, error_val"
   ]
  },
  {
   "cell_type": "code",
   "execution_count": 239,
   "metadata": {},
   "outputs": [],
   "source": [
    "error_train, error_val = learning_curve(X, y, X_val, y_val, 0)"
   ]
  },
  {
   "cell_type": "code",
   "execution_count": 203,
   "metadata": {},
   "outputs": [
    {
     "data": {
      "text/plain": [
       "<matplotlib.legend.Legend at 0x1818e17b90>"
      ]
     },
     "execution_count": 203,
     "metadata": {},
     "output_type": "execute_result"
    },
    {
     "data": {
      "image/png": "[encoded data removed]",
      "text/plain": [
       "<matplotlib.figure.Figure at 0x181958fd10>"
      ]
     },
     "metadata": {},
     "output_type": "display_data"
    }
   ],
   "source": [
    "plt.plot(np.arange(1,y.size+1), error_train, label='Training error')\n",
    "plt.plot(np.arange(1,y.size+1), error_val, label='Validation error')\n",
    "plt.title('Learning curve for linear regression (high bias)')\n",
    "plt.xlabel('Number of training examples')\n",
    "plt.ylabel('Error')\n",
    "plt.legend(loc=\"best\")\n"
   ]
  },
  {
   "cell_type": "markdown",
   "metadata": {},
   "source": [
    "### Polynomial Regression"
   ]
  },
  {
   "cell_type": "code",
   "execution_count": 204,
   "metadata": {},
   "outputs": [],
   "source": [
    "def poly_features(X, p):\n",
    "    new_X = X.copy()\n",
    "    for i in range(p):\n",
    "        new_X = np.c_[new_X,np.power(new_X[:,1], i+2)]\n",
    "    return new_X\n",
    "        "
   ]
  },
  {
   "cell_type": "code",
   "execution_count": 205,
   "metadata": {
    "collapsed": true
   },
   "outputs": [],
   "source": [
    "def feature_normalize(X):\n",
    "    X_norm = X.copy()\n",
    "    stored_feature_means = np.mean(X_norm,axis=0)\n",
    "    X_norm[:,1:] = X_norm[:,1:] - stored_feature_means[1:]\n",
    "    stored_feature_stds = np.std(X_norm,axis=0,ddof=1)\n",
    "    X_norm[:,1:] = X_norm[:,1:] / stored_feature_stds[1:]\n",
    "    return X_norm, stored_feature_means, stored_feature_stds\n"
   ]
  },
  {
   "cell_type": "code",
   "execution_count": 206,
   "metadata": {},
   "outputs": [],
   "source": [
    "X_poly = poly_features(X, 8)\n",
    "X_norm, mean, std = feature_normalize(X_poly)"
   ]
  },
  {
   "cell_type": "markdown",
   "metadata": {},
   "source": [
    "### Learning Polynomial Regression"
   ]
  },
  {
   "cell_type": "code",
   "execution_count": 223,
   "metadata": {},
   "outputs": [],
   "source": [
    "X_poly = poly_features(X, 5)\n",
    "X_norm, mean, std = feature_normalize(X_poly) "
   ]
  },
  {
   "cell_type": "code",
   "execution_count": 237,
   "metadata": {},
   "outputs": [
    {
     "name": "stdout",
     "output_type": "stream",
     "text": [
      "[-15.93675813 -29.15297922  36.18954863  37.49218733 -48.05882945\n",
      "  -8.94145794  15.30779289 -34.70626581   1.38915437 -44.38375985\n",
      "   7.01350208  22.76274892] \n",
      "[  1.38296155   1.99152962  35.48482178  35.90967905   3.12465315\n",
      "   1.85800297  14.39826564   2.5035875    4.61750924   3.19531518\n",
      "   7.62552116  22.51922801]\n"
     ]
    }
   ],
   "source": [
    "new_theta = np.ones(X_norm.shape[1])\n",
    "best_theta = optimize_theta(X_norm, y, new_theta)\n",
    "print X[:,1], \"\\n\", X_norm.dot(best_theta.x)"
   ]
  },
  {
   "cell_type": "code",
   "execution_count": 276,
   "metadata": {},
   "outputs": [
    {
     "data": {
      "text/plain": [
       "[<matplotlib.lines.Line2D at 0x1a1a6fc950>]"
      ]
     },
     "execution_count": 276,
     "metadata": {},
     "output_type": "execute_result"
    },
    {
     "data": {
      "image/png": "[encoded data removed]",
      "text/plain": [
       "<matplotlib.figure.Figure at 0x1a1a6fc850>"
      ]
     },
     "metadata": {},
     "output_type": "display_data"
    }
   ],
   "source": [
    "plt.scatter(X[:,1],y, marker='x', c=\"red\")\n",
    "x_vals = np.linspace(-50, 50, 50)\n",
    "x_to_plot = np.c_[np.ones((50,1)), x_vals]\n",
    "x_plot_poly = poly_features(x_to_plot,5)\n",
    "x_plot_norm, mean, std = feature_normalize(x_plot_poly) \n",
    "plt.plot(x_vals, x_plot_norm.dot(best_theta.x), \"b--\")"
   ]
  },
  {
   "cell_type": "markdown",
   "metadata": {},
   "source": [
    "### Polynomial Learning with Scikit Learn"
   ]
  },
  {
   "cell_type": "code",
   "execution_count": 269,
   "metadata": {},
   "outputs": [],
   "source": [
    "poly = PolynomialFeatures(degree=8)\n",
    "X_poly = poly.fit_transform(X[:,1].reshape(-1,1))"
   ]
  },
  {
   "cell_type": "code",
   "execution_count": 270,
   "metadata": {},
   "outputs": [
    {
     "data": {
      "text/plain": [
       "Ridge(alpha=20, copy_X=True, fit_intercept=True, max_iter=None,\n",
       "   normalize=False, random_state=None, solver='auto', tol=0.001)"
      ]
     },
     "execution_count": 270,
     "metadata": {},
     "output_type": "execute_result"
    }
   ],
   "source": [
    "lr = LinearRegression()\n",
    "lr.fit(X_poly, y)\n",
    "lr2 = Ridge(alpha=20)\n",
    "lr2.fit(X_poly, y)"
   ]
  },
  {
   "cell_type": "code",
   "execution_count": 271,
   "metadata": {},
   "outputs": [
    {
     "name": "stdout",
     "output_type": "stream",
     "text": [
      "(50,)\n",
      "(50, 9)\n"
     ]
    }
   ],
   "source": [
    "plot_x = np.linspace(-60,45,50)\n",
    "print plot_x.shape\n",
    "# using coefficients to calculate y\n",
    "print poly.fit_transform(plot_x.reshape(-1,1)).shape\n",
    "plot_y = lr.intercept_+ np.sum(lr.coef_*poly.fit_transform(plot_x.reshape(-1,1)), axis=1)\n",
    "plot_y2 = lr2.intercept_ + np.sum(lr2.coef_*poly.fit_transform(plot_x.reshape(-1,1)), axis=1)"
   ]
  },
  {
   "cell_type": "code",
   "execution_count": 275,
   "metadata": {},
   "outputs": [
    {
     "data": {
      "text/plain": [
       "Text(0,0.5,u'Water flowing out of the dam (y)')"
      ]
     },
     "execution_count": 275,
     "metadata": {},
     "output_type": "execute_result"
    },
    {
     "data": {
      "image/png": "[encoded data removed]",
      "text/plain": [
       "<matplotlib.figure.Figure at 0x1a1a3b8c50>"
      ]
     },
     "metadata": {},
     "output_type": "display_data"
    }
   ],
   "source": [
    "plt.plot(plot_x, plot_y, label='Scikit-learn LinearRegression')\n",
    "plt.plot(plot_x, plot_y2, label='Scikit-learn Ridge (alpha={})'.format(lr2.alpha))\n",
    "plt.legend(loc=\"best\")\n",
    "plt.xlabel('Change in water level (x)')\n",
    "plt.ylabel('Water flowing out of the dam (y)')"
   ]
  },
  {
   "cell_type": "code",
   "execution_count": null,
   "metadata": {
    "collapsed": true
   },
   "outputs": [],
   "source": []
  }
 ],
 "metadata": {
  "kernelspec": {
   "display_name": "Python 2",
   "language": "python",
   "name": "python2"
  },
  "language_info": {
   "codemirror_mode": {
    "name": "ipython",
    "version": 2
   },
   "file_extension": ".py",
   "mimetype": "text/x-python",
   "name": "python",
   "nbconvert_exporter": "python",
   "pygments_lexer": "ipython2",
   "version": "2.7.14"
  }
 },
 "nbformat": 4,
 "nbformat_minor": 2
}
